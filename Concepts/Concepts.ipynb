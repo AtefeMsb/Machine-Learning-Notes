{
 "cells": [
  {
   "cell_type": "markdown",
   "metadata": {},
   "source": []
  },
  {
   "cell_type": "code",
   "execution_count": null,
   "metadata": {},
   "outputs": [],
   "source": []
  },
  {
   "cell_type": "markdown",
   "metadata": {},
   "source": [
    "## Classification\n",
    "**Why don’t we use \"Mean Squared Error\" as a cost function in Logistic Regression?** In Logistic Regression Ŷi is a nonlinear function(Ŷ=1​/1+ e-z), if we put this in the MSE equation it will give a non-convex function.<br>\n",
    "**cost function used in Logistic Regression?** Log Loss <br>\n",
    "**Log Loss Formula:** <img src=\"../images/logloss.png\"> <br>\n",
    "**Log Loss Graph:** <img src=\"../images/logloss-graph.png\" width=\"500\"> <br>\n",
    "### Evaluation Method:\n",
    "- **Accuracy** is not the best, it can be misleading when the dataset is imbalanced.<br>\n",
    "- In case of class-imbalanced problems, usefull to seprate out different kind of errors <br>\n",
    "- Better Evaluation Metrics: precision and recall<br>\n",
    "**Precesion Definition:** true positive / all positive predictions <br>\n",
    "**Precesion intuition:** how precise was the prediction. <br>\n",
    "**Recal Definition:** true positive / all actual positives <br>\n",
    "**Recal intuition:** out of all positive, how many models correctly identified.<br>\n",
    "<img src=\"../images/cm1.png\"> <br>\n",
    "<img src=\"../images/cm2.png\" width=\"500\"> <br>"
   ]
  },
  {
   "cell_type": "markdown",
   "metadata": {},
   "source": [
    "#### ROC Curve\n",
    "precision and recal are valid when there is one specific **classification threshold** chose, but what about the time we don't know ahead of time what is the best threshold? <br>\n",
    "An ROC curve (receiver operating characteristic curve) is a graph showing the performance of a classification model at all classification thresholds.\n",
    "<img src=\"../images/roc.png\" width=\"500\"> <br>\n",
    "\n",
    "we want to have higher TP and lower FP, so perfect classifier would be on the \"top right\" corner. <br>\n",
    "\n",
    "<img src=\"../images/roc2.png\" width=\"600\"> <br>\n"
   ]
  },
  {
   "cell_type": "markdown",
   "metadata": {},
   "source": [
    "#### Prediction Bias\n",
    "\n",
    "<img src=\"../images/pb.png\" width=\"700\"> <br>\n",
    "\n",
    "Possible root causes of prediction bias are:\n",
    "\n",
    "- Incomplete feature set\n",
    "- Noisy data set\n",
    "- Buggy pipeline\n",
    "- Biased training sample\n",
    "- Overly strong regularization"
   ]
  },
  {
   "cell_type": "markdown",
   "metadata": {},
   "source": [
    "## Regularization ??????????????\n",
    "\n",
    "### Regularization for Sparsity: L₁ Regularization\n"
   ]
  },
  {
   "cell_type": "code",
   "execution_count": null,
   "metadata": {},
   "outputs": [],
   "source": []
  }
 ],
 "metadata": {
  "kernelspec": {
   "display_name": "Python 3",
   "language": "python",
   "name": "python3"
  },
  "language_info": {
   "codemirror_mode": {
    "name": "ipython",
    "version": 3
   },
   "file_extension": ".py",
   "mimetype": "text/x-python",
   "name": "python",
   "nbconvert_exporter": "python",
   "pygments_lexer": "ipython3",
   "version": "3.8.1"
  }
 },
 "nbformat": 4,
 "nbformat_minor": 4
}
