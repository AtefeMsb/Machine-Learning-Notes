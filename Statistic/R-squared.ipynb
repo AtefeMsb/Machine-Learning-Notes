{
 "cells": [
  {
   "cell_type": "markdown",
   "metadata": {},
   "source": [
    "## R-squared\n",
    "\n",
    "### Resource:\n",
    "[StatQuest: R-squared explained](https://www.youtube.com/watch?v=2AQKmw14mHM&ab_channel=StatQuestwithJoshStarmer)\n",
    "\n",
    "[The Correlation Coefficient - Explained in Three Steps](https://www.youtube.com/watch?v=ugd4k3dC_8Y&ab_channel=BenedictK)\n",
    "\n",
    "[Correlation Doesn’t Equal Causation: Crash Course Statistics #8](https://www.youtube.com/watch?v=GtV-VYdNt_g&ab_channel=CrashCourse)"
   ]
  },
  {
   "cell_type": "markdown",
   "metadata": {},
   "source": [
    "**Correlation Coefficient (Pearson’s correlation (also called Pearson’s R))**\n",
    "\n",
    "Correlation coefficient formulas are used to find how strong a relationship is between data. The formulas return a value between -1 and 1."
   ]
  },
  {
   "cell_type": "markdown",
   "metadata": {},
   "source": [
    "**R-squared**\n",
    "\n",
    "* R-squared tells us how much of the variance in one variuable is predicted by the other one. or in the other word R-squared tells us how well we can predict one variable if we know the other.<br>\n",
    "* R-squared is always between 0 and 100%.<br>\n",
    "* percentage: explains how much of variation is explained by the 2 variable relationship.<br>\n",
    "* R-squared == 100 means that one varuable is completly predictablle by the other"
   ]
  },
  {
   "cell_type": "code",
   "execution_count": null,
   "metadata": {},
   "outputs": [],
   "source": []
  }
 ],
 "metadata": {
  "kernelspec": {
   "display_name": "Python 3",
   "language": "python",
   "name": "python3"
  },
  "language_info": {
   "codemirror_mode": {
    "name": "ipython",
    "version": 3
   },
   "file_extension": ".py",
   "mimetype": "text/x-python",
   "name": "python",
   "nbconvert_exporter": "python",
   "pygments_lexer": "ipython3",
   "version": "3.8.1"
  }
 },
 "nbformat": 4,
 "nbformat_minor": 4
}
